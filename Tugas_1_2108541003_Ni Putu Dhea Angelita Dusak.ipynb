{
 "cells": [
  {
   "cell_type": "code",
   "execution_count": 1,
   "id": "f101ddf9",
   "metadata": {},
   "outputs": [
    {
     "name": "stdout",
     "output_type": "stream",
     "text": [
      "Halo semuanya!\n"
     ]
    }
   ],
   "source": [
    "print('Halo semuanya!')"
   ]
  },
  {
   "cell_type": "code",
   "execution_count": 2,
   "id": "d8a602b1",
   "metadata": {},
   "outputs": [
    {
     "name": "stdout",
     "output_type": "stream",
     "text": [
      "Perkenalkan, nama saya Ni Putu Dhea Angelita Dusak\n"
     ]
    }
   ],
   "source": [
    "print('Perkenalkan, nama saya Ni Putu Dhea Angelita Dusak')"
   ]
  },
  {
   "cell_type": "code",
   "execution_count": 8,
   "id": "a222c0b7",
   "metadata": {},
   "outputs": [
    {
     "name": "stdout",
     "output_type": "stream",
     "text": [
      "15000\n",
      "3\n",
      "45000\n"
     ]
    }
   ],
   "source": [
    "Harga_nasi_goreng = 15000\n",
    "Jumlah_porsi_dibeli = 3\n",
    "print(Harga_nasi_goreng)\n",
    "print(Jumlah_porsi_dibeli)\n",
    "print(Harga_nasi_goreng*Jumlah_porsi_dibeli)"
   ]
  },
  {
   "cell_type": "code",
   "execution_count": 9,
   "id": "25586795",
   "metadata": {},
   "outputs": [
    {
     "name": "stdout",
     "output_type": "stream",
     "text": [
      "Siapa namamu? Dhea\n",
      "Lagi dapet matkul apa nih, Dhea? Algoritma & Struktur Data\n",
      "Wih, semangat ya belajar Algoritma & Struktur Data-nya, Dhea!\n"
     ]
    }
   ],
   "source": [
    "nama = input(\"Siapa namamu? \")\n",
    "matkul = input('Lagi dapet matkul apa nih, ' + nama + \"? \")\n",
    "print(\"Wih, semangat ya belajar \"+  matkul +\"-nya, \"+nama+ \"!\")"
   ]
  },
  {
   "cell_type": "code",
   "execution_count": 10,
   "id": "2dbffff2",
   "metadata": {},
   "outputs": [
    {
     "name": "stdout",
     "output_type": "stream",
     "text": [
      "Berapa harga kopi susu di warkop Prabu? 7000\n",
      "Kalau harga teh telang, berapa? 5000\n",
      "Kalau kamu beli kopi susu dan teh teleng, berarti totalnya Rp12000\n",
      "Terima kasih, ya. Jangan lupa belanja kembali!\n"
     ]
    }
   ],
   "source": [
    "kopi_susu = input(\"Berapa harga kopi susu di warkop Prabu? \")\n",
    "teh_telang = input(\"Kalau harga teh telang, berapa? \")\n",
    "total = int(kopi_susu)+int(teh_telang)\n",
    "print(\"Kalau kamu beli kopi susu dan teh teleng, berarti totalnya Rp\" + str(total))\n",
    "print('Terima kasih, ya. Jangan lupa belanja kembali!')"
   ]
  },
  {
   "cell_type": "code",
   "execution_count": 12,
   "id": "280816c2",
   "metadata": {},
   "outputs": [
    {
     "name": "stdout",
     "output_type": "stream",
     "text": [
      "Harry Potter bersekolah di Hogwarts dan tinggal di asrama Gryffindor\n"
     ]
    }
   ],
   "source": [
    "nama = \"Harry Potter\"\n",
    "sekolah = \"Hogwarts\"\n",
    "asrama = \"Gryffindor\"\n",
    "print(f\"{nama} bersekolah di {sekolah} dan tinggal di asrama {asrama}\")"
   ]
  },
  {
   "cell_type": "code",
   "execution_count": 28,
   "id": "f242197b",
   "metadata": {},
   "outputs": [
    {
     "name": "stdout",
     "output_type": "stream",
     "text": [
      "Dhea Angeli\n",
      "lita Dus\n",
      "ita \n"
     ]
    }
   ],
   "source": [
    "Dhea = 'Ni Putu Dhea Angelita Dusak'\n",
    "print(Dhea[8:19])\n",
    "print(Dhea[17:-2])\n",
    "print(Dhea[18:-5])"
   ]
  },
  {
   "cell_type": "code",
   "execution_count": 30,
   "id": "1e66c409",
   "metadata": {},
   "outputs": [
    {
     "data": {
      "text/plain": [
       "'DHEA CANTIK SEKALI'"
      ]
     },
     "execution_count": 30,
     "metadata": {},
     "output_type": "execute_result"
    }
   ],
   "source": [
    "Pujian = 'Dhea cantik sekali'\n",
    "Pujian.upper()"
   ]
  },
  {
   "cell_type": "code",
   "execution_count": 31,
   "id": "72b9b7af",
   "metadata": {},
   "outputs": [
    {
     "data": {
      "text/plain": [
       "'dhea cantik sekali'"
      ]
     },
     "execution_count": 31,
     "metadata": {},
     "output_type": "execute_result"
    }
   ],
   "source": [
    "Pujian.lower()"
   ]
  },
  {
   "cell_type": "code",
   "execution_count": 32,
   "id": "c0e7b276",
   "metadata": {},
   "outputs": [
    {
     "data": {
      "text/plain": [
       "5"
      ]
     },
     "execution_count": 32,
     "metadata": {},
     "output_type": "execute_result"
    }
   ],
   "source": [
    "Pujian.find('cantik')"
   ]
  },
  {
   "cell_type": "code",
   "execution_count": 33,
   "id": "a7d2ab1e",
   "metadata": {},
   "outputs": [
    {
     "data": {
      "text/plain": [
       "'Dhea manis sekali'"
      ]
     },
     "execution_count": 33,
     "metadata": {},
     "output_type": "execute_result"
    }
   ],
   "source": [
    "Pujian.replace('cantik','manis')"
   ]
  },
  {
   "cell_type": "code",
   "execution_count": 35,
   "id": "ad3eac49",
   "metadata": {},
   "outputs": [
    {
     "name": "stdout",
     "output_type": "stream",
     "text": [
      "True\n"
     ]
    }
   ],
   "source": [
    "print('cantik' in Pujian)"
   ]
  },
  {
   "cell_type": "code",
   "execution_count": 36,
   "id": "7c76627c",
   "metadata": {},
   "outputs": [
    {
     "name": "stdout",
     "output_type": "stream",
     "text": [
      "False\n"
     ]
    }
   ],
   "source": [
    "print('jelek' in Pujian)"
   ]
  },
  {
   "cell_type": "code",
   "execution_count": 37,
   "id": "0f602f2d",
   "metadata": {},
   "outputs": [
    {
     "name": "stdout",
     "output_type": "stream",
     "text": [
      "64\n",
      "17\n",
      "27\n",
      "11.0\n",
      "16\n",
      "0\n",
      "6561\n",
      "15\n",
      "9\n",
      "45\n"
     ]
    }
   ],
   "source": [
    "print(8*8)\n",
    "print(24-7)\n",
    "print(23+4)\n",
    "print(121/11)\n",
    "print(64//4)\n",
    "print(100%10)\n",
    "print(3**8)\n",
    "x=8\n",
    "x+=7\n",
    "print(x)\n",
    "x-=6\n",
    "print(x)\n",
    "x*=5\n",
    "print(x)"
   ]
  },
  {
   "cell_type": "code",
   "execution_count": 38,
   "id": "dba607e2",
   "metadata": {},
   "outputs": [
    {
     "name": "stdout",
     "output_type": "stream",
     "text": [
      "False\n"
     ]
    }
   ],
   "source": [
    "x = 3>6\n",
    "print(x)"
   ]
  },
  {
   "cell_type": "code",
   "execution_count": 39,
   "id": "2316f821",
   "metadata": {},
   "outputs": [
    {
     "name": "stdout",
     "output_type": "stream",
     "text": [
      "False\n"
     ]
    }
   ],
   "source": [
    "x = 200000<90\n",
    "print(x)"
   ]
  },
  {
   "cell_type": "code",
   "execution_count": 40,
   "id": "17da4a2d",
   "metadata": {},
   "outputs": [
    {
     "name": "stdout",
     "output_type": "stream",
     "text": [
      "True\n"
     ]
    }
   ],
   "source": [
    "x = 20>10\n",
    "print(x)"
   ]
  },
  {
   "cell_type": "code",
   "execution_count": 41,
   "id": "cbab5211",
   "metadata": {},
   "outputs": [
    {
     "name": "stdout",
     "output_type": "stream",
     "text": [
      "True\n"
     ]
    }
   ],
   "source": [
    "x= 90>=90\n",
    "print(x)"
   ]
  },
  {
   "cell_type": "code",
   "execution_count": 50,
   "id": "f6cddfb7",
   "metadata": {},
   "outputs": [
    {
     "name": "stdout",
     "output_type": "stream",
     "text": [
      "True\n"
     ]
    }
   ],
   "source": [
    "x= 0==0\n",
    "print(x)"
   ]
  },
  {
   "cell_type": "code",
   "execution_count": 47,
   "id": "4eb586df",
   "metadata": {
    "scrolled": true
   },
   "outputs": [
    {
     "name": "stdout",
     "output_type": "stream",
     "text": [
      "True\n"
     ]
    }
   ],
   "source": [
    "tinggi_dhea = 163\n",
    "tinggi_debby = 158\n",
    "print(tinggi_dhea>160 and tinggi_debby>80)"
   ]
  },
  {
   "cell_type": "code",
   "execution_count": 48,
   "id": "a4f5721b",
   "metadata": {},
   "outputs": [
    {
     "name": "stdout",
     "output_type": "stream",
     "text": [
      "True\n"
     ]
    }
   ],
   "source": [
    "print(tinggi_dhea<100 or tinggi_debby>100)"
   ]
  },
  {
   "cell_type": "code",
   "execution_count": 49,
   "id": "8e94321f",
   "metadata": {},
   "outputs": [
    {
     "name": "stdout",
     "output_type": "stream",
     "text": [
      "False\n"
     ]
    }
   ],
   "source": [
    "print(tinggi_dhea<100 and tinggi_debby>100)"
   ]
  },
  {
   "cell_type": "code",
   "execution_count": 59,
   "id": "aab878f2",
   "metadata": {},
   "outputs": [
    {
     "name": "stdout",
     "output_type": "stream",
     "text": [
      "Berapa banyak pacar yang kamu punya?(Masukkan dalam bentuk angka) 1\n",
      "Mantap, kamu setia.\n"
     ]
    }
   ],
   "source": [
    "pacar=float(input(\"Berapa banyak pacar yang kamu punya?(Masukkan dalam bentuk angka) \"))\n",
    "if pacar==0:\n",
    "    print(\"Waduh. Nggak apa-apa, tetap semangat!\")\n",
    "elif pacar==1:\n",
    "    print(\"Mantap, kamu setia.\")\n",
    "elif pacar>1:\n",
    "    print(\"Parah! Tobat, woi!\")"
   ]
  },
  {
   "cell_type": "code",
   "execution_count": 62,
   "id": "7e2ac0d5",
   "metadata": {},
   "outputs": [
    {
     "name": "stdout",
     "output_type": "stream",
     "text": [
      "Masukkan tinggi badan Anda (dalam cm): 80\n",
      "Tinggi badan Anda dalam inci adalah 31.496 inci\n"
     ]
    }
   ],
   "source": [
    "tinggi_cm = int(input(\"Masukkan tinggi badan Anda (dalam cm): \"))\n",
    "tinggi_inci = float(tinggi_cm*0.3937)\n",
    "print(\"Tinggi badan Anda dalam inci adalah \" + str(tinggi_inci) + \" inci\")"
   ]
  },
  {
   "cell_type": "code",
   "execution_count": 63,
   "id": "7c708e29",
   "metadata": {},
   "outputs": [
    {
     "name": "stdout",
     "output_type": "stream",
     "text": [
      "Masukkan tinggi badan Anda (dalam inci): 80\n",
      "Tinggi badan Anda dalam cm adalah 203.2 cm\n"
     ]
    }
   ],
   "source": [
    "tinggi_inci = int(input(\"Masukkan tinggi badan Anda (dalam inci): \"))\n",
    "tinggi_cm = float(tinggi_cm*2.54)\n",
    "print(\"Tinggi badan Anda dalam cm adalah \" + str(tinggi_cm) + \" cm\")"
   ]
  },
  {
   "cell_type": "code",
   "execution_count": 65,
   "id": "f9601e09",
   "metadata": {},
   "outputs": [
    {
     "name": "stdout",
     "output_type": "stream",
     "text": [
      "Angka -8 lebih kecil dari 8\n",
      "Angka -7 lebih kecil dari 8\n",
      "Angka -6 lebih kecil dari 8\n",
      "Angka -5 lebih kecil dari 8\n",
      "Angka -4 lebih kecil dari 8\n",
      "Angka -3 lebih kecil dari 8\n",
      "Angka -2 lebih kecil dari 8\n",
      "Angka -1 lebih kecil dari 8\n",
      "Angka 0 lebih kecil dari 8\n",
      "Angka 1 lebih kecil dari 8\n",
      "Angka 2 lebih kecil dari 8\n",
      "Angka 3 lebih kecil dari 8\n",
      "Angka 4 lebih kecil dari 8\n",
      "Angka 5 lebih kecil dari 8\n",
      "Angka 6 lebih kecil dari 8\n",
      "Angka 7 lebih kecil dari 8\n"
     ]
    }
   ],
   "source": [
    "a=-8\n",
    "while a<8:\n",
    "    print(\"Angka \" + str(a) + \" lebih kecil dari 8\")\n",
    "    a+=1"
   ]
  },
  {
   "cell_type": "code",
   "execution_count": 67,
   "id": "5351f950",
   "metadata": {},
   "outputs": [
    {
     "name": "stdout",
     "output_type": "stream",
     "text": [
      "*\n",
      "**\n",
      "***\n",
      "****\n",
      "*****\n",
      "******\n",
      "*******\n"
     ]
    }
   ],
   "source": [
    "a=1\n",
    "while a<8:\n",
    "    print(a* \"*\")\n",
    "    a+=1"
   ]
  },
  {
   "cell_type": "code",
   "execution_count": null,
   "id": "88161f70",
   "metadata": {},
   "outputs": [],
   "source": []
  }
 ],
 "metadata": {
  "kernelspec": {
   "display_name": "Python 3 (ipykernel)",
   "language": "python",
   "name": "python3"
  },
  "language_info": {
   "codemirror_mode": {
    "name": "ipython",
    "version": 3
   },
   "file_extension": ".py",
   "mimetype": "text/x-python",
   "name": "python",
   "nbconvert_exporter": "python",
   "pygments_lexer": "ipython3",
   "version": "3.9.7"
  }
 },
 "nbformat": 4,
 "nbformat_minor": 5
}
