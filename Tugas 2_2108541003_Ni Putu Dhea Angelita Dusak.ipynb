{
 "cells": [
  {
   "cell_type": "markdown",
   "id": "3712ebec",
   "metadata": {},
   "source": [
    "# List di Phyton"
   ]
  },
  {
   "cell_type": "code",
   "execution_count": 1,
   "id": "b371d12e",
   "metadata": {},
   "outputs": [
    {
     "name": "stdout",
     "output_type": "stream",
     "text": [
      "['dhea', 'debby', 'devi']\n"
     ]
    }
   ],
   "source": [
    "anak_bapak = ['dhea','debby','devi']\n",
    "print(anak_bapak)"
   ]
  },
  {
   "cell_type": "code",
   "execution_count": 4,
   "id": "076d38fd",
   "metadata": {},
   "outputs": [
    {
     "name": "stdout",
     "output_type": "stream",
     "text": [
      "dhea\n"
     ]
    }
   ],
   "source": [
    "print(anak_bapak[0])"
   ]
  },
  {
   "cell_type": "code",
   "execution_count": 5,
   "id": "0611cae8",
   "metadata": {},
   "outputs": [
    {
     "name": "stdout",
     "output_type": "stream",
     "text": [
      "debby\n"
     ]
    }
   ],
   "source": [
    "print(anak_bapak[1])"
   ]
  },
  {
   "cell_type": "code",
   "execution_count": 6,
   "id": "bed205c5",
   "metadata": {},
   "outputs": [
    {
     "name": "stdout",
     "output_type": "stream",
     "text": [
      "devi\n"
     ]
    }
   ],
   "source": [
    "print(anak_bapak[2])"
   ]
  },
  {
   "cell_type": "code",
   "execution_count": 7,
   "id": "b5f75f1f",
   "metadata": {},
   "outputs": [
    {
     "name": "stdout",
     "output_type": "stream",
     "text": [
      "dhea\n"
     ]
    }
   ],
   "source": [
    "print(anak_bapak[-3])"
   ]
  },
  {
   "cell_type": "markdown",
   "id": "7cc1f7e6",
   "metadata": {},
   "source": [
    "# Metoda List"
   ]
  },
  {
   "cell_type": "code",
   "execution_count": 10,
   "id": "b21379a8",
   "metadata": {},
   "outputs": [
    {
     "name": "stdout",
     "output_type": "stream",
     "text": [
      "['RM', 'Jin', 'SUGA', 'J-Hope', 'Jimin', 'V', 'Jungkook', 'Dhea']\n"
     ]
    }
   ],
   "source": [
    "bts = ['RM','Jin','SUGA','J-Hope','Jimin','V','Jungkook']\n",
    "bts.append('Dhea')\n",
    "print(bts)"
   ]
  },
  {
   "cell_type": "code",
   "execution_count": 11,
   "id": "b995f617",
   "metadata": {},
   "outputs": [
    {
     "name": "stdout",
     "output_type": "stream",
     "text": [
      "['Bang PD', 'RM', 'Jin', 'SUGA', 'J-Hope', 'Jimin', 'V', 'Jungkook', 'Dhea']\n"
     ]
    }
   ],
   "source": [
    "bts.insert(0,'Bang PD')\n",
    "print(bts)"
   ]
  },
  {
   "cell_type": "code",
   "execution_count": 12,
   "id": "5625356a",
   "metadata": {},
   "outputs": [
    {
     "name": "stdout",
     "output_type": "stream",
     "text": [
      "['Bang PD', 'RM', 'Jin', 'SUGA', 'J-Hope', 'Jimin', 'V', 'Jungkook']\n"
     ]
    }
   ],
   "source": [
    "bts.remove('Dhea')\n",
    "print(bts)"
   ]
  },
  {
   "cell_type": "code",
   "execution_count": 13,
   "id": "644b4172",
   "metadata": {},
   "outputs": [
    {
     "name": "stdout",
     "output_type": "stream",
     "text": [
      "False\n"
     ]
    }
   ],
   "source": [
    "print('Kai' in bts)"
   ]
  },
  {
   "cell_type": "code",
   "execution_count": 14,
   "id": "08a90227",
   "metadata": {},
   "outputs": [
    {
     "name": "stdout",
     "output_type": "stream",
     "text": [
      "True\n"
     ]
    }
   ],
   "source": [
    "print('V' in bts)"
   ]
  },
  {
   "cell_type": "markdown",
   "id": "f225525f",
   "metadata": {},
   "source": [
    "# For Loop"
   ]
  },
  {
   "cell_type": "code",
   "execution_count": 1,
   "id": "d0b4089c",
   "metadata": {},
   "outputs": [
    {
     "name": "stdout",
     "output_type": "stream",
     "text": [
      "nasi goreng\n",
      "bakso\n",
      "siomay\n",
      "lawar\n"
     ]
    }
   ],
   "source": [
    "makanan_kesukaan_dhea = ['nasi goreng','bakso','siomay','lawar']\n",
    "for enak in makanan_kesukaan_dhea:\n",
    "    print(enak)"
   ]
  },
  {
   "cell_type": "code",
   "execution_count": 3,
   "id": "4c6b5a07",
   "metadata": {},
   "outputs": [
    {
     "name": "stdout",
     "output_type": "stream",
     "text": [
      "nasi goreng\n",
      "bakso\n",
      "siomay\n",
      "lawar\n"
     ]
    }
   ],
   "source": [
    "i=0\n",
    "while i<len(makanan_kesukaan_dhea):\n",
    "    print(makanan_kesukaan_dhea[i])\n",
    "    i+=1"
   ]
  },
  {
   "cell_type": "markdown",
   "id": "c0da1b59",
   "metadata": {},
   "source": [
    "# Fungsi Range"
   ]
  },
  {
   "cell_type": "code",
   "execution_count": 10,
   "id": "92d6d9ae",
   "metadata": {},
   "outputs": [
    {
     "name": "stdout",
     "output_type": "stream",
     "text": [
      "range(14, 19)\n"
     ]
    }
   ],
   "source": [
    "Umur_Anak_SMA = range(14,19)\n",
    "print(Umur_Anak_SMA)"
   ]
  },
  {
   "cell_type": "code",
   "execution_count": 11,
   "id": "c2a2c954",
   "metadata": {},
   "outputs": [
    {
     "name": "stdout",
     "output_type": "stream",
     "text": [
      "14\n",
      "15\n",
      "16\n",
      "17\n",
      "18\n"
     ]
    }
   ],
   "source": [
    "for isi in Umur_Anak_SMA:\n",
    "    print(isi)"
   ]
  },
  {
   "cell_type": "code",
   "execution_count": 12,
   "id": "224c8caa",
   "metadata": {},
   "outputs": [
    {
     "name": "stdout",
     "output_type": "stream",
     "text": [
      "19\n",
      "20\n",
      "21\n"
     ]
    }
   ],
   "source": [
    "for isi in range(19,22):\n",
    "    print(isi)"
   ]
  },
  {
   "cell_type": "code",
   "execution_count": 14,
   "id": "8a647a4e",
   "metadata": {},
   "outputs": [
    {
     "name": "stdout",
     "output_type": "stream",
     "text": [
      "0\n",
      "2\n",
      "4\n",
      "6\n"
     ]
    }
   ],
   "source": [
    "for isi in range(0,7,2):\n",
    "    print(isi)"
   ]
  },
  {
   "cell_type": "code",
   "execution_count": 3,
   "id": "af2da887",
   "metadata": {},
   "outputs": [
    {
     "name": "stdout",
     "output_type": "stream",
     "text": [
      "9\n"
     ]
    }
   ],
   "source": [
    "data=[8,5,2,3,6,7,9,1]\n",
    "terbesar=data[0]\n",
    "for i in range(len(data)):\n",
    "    if data[i]>terbesar:\n",
    "        terbesar=data[i]\n",
    "print(terbesar)"
   ]
  },
  {
   "cell_type": "code",
   "execution_count": 4,
   "id": "3f6505da",
   "metadata": {},
   "outputs": [
    {
     "name": "stdout",
     "output_type": "stream",
     "text": [
      "[3, 4, 6, 8, 9, 2, 7]\n"
     ]
    }
   ],
   "source": [
    "angka=[3,3,4,6,3,8,9,4,2,7,8,4,3,6]\n",
    "angka_unik=[]\n",
    "for anggota in angka:\n",
    "    if anggota not in angka_unik:\n",
    "        angka_unik.append(anggota)\n",
    "print(angka_unik)"
   ]
  },
  {
   "cell_type": "markdown",
   "id": "3d27de36",
   "metadata": {},
   "source": [
    "# List 2 Dimensi"
   ]
  },
  {
   "cell_type": "code",
   "execution_count": 7,
   "id": "6eef56bf",
   "metadata": {},
   "outputs": [
    {
     "name": "stdout",
     "output_type": "stream",
     "text": [
      "[[1, 2, 3, 4], [2, 3, 4, 5], [3, 4, 5, 6], [4, 5, 6, 7]]\n"
     ]
    }
   ],
   "source": [
    "angka=[\n",
    "    [1,2,3,4],\n",
    "    [2,3,4,5],\n",
    "    [3,4,5,6],\n",
    "    [4,5,6,7]\n",
    "]\n",
    "print(angka)"
   ]
  },
  {
   "cell_type": "code",
   "execution_count": 8,
   "id": "9b75127d",
   "metadata": {},
   "outputs": [
    {
     "data": {
      "text/plain": [
       "[4, 5, 6, 7]"
      ]
     },
     "execution_count": 8,
     "metadata": {},
     "output_type": "execute_result"
    }
   ],
   "source": [
    "angka[3]"
   ]
  },
  {
   "cell_type": "code",
   "execution_count": 9,
   "id": "7070a97f",
   "metadata": {},
   "outputs": [
    {
     "data": {
      "text/plain": [
       "[3, 4, 5, 6]"
      ]
     },
     "execution_count": 9,
     "metadata": {},
     "output_type": "execute_result"
    }
   ],
   "source": [
    "angka[2]"
   ]
  },
  {
   "cell_type": "code",
   "execution_count": 10,
   "id": "fbaf4b1b",
   "metadata": {},
   "outputs": [
    {
     "name": "stdout",
     "output_type": "stream",
     "text": [
      "[1, 2, 3, 4]\n",
      "1\n",
      "2\n",
      "3\n",
      "4\n",
      "[2, 3, 4, 5]\n",
      "2\n",
      "3\n",
      "4\n",
      "5\n",
      "[3, 4, 5, 6]\n",
      "3\n",
      "4\n",
      "5\n",
      "6\n",
      "[4, 5, 6, 7]\n",
      "4\n",
      "5\n",
      "6\n",
      "7\n"
     ]
    }
   ],
   "source": [
    "for baris in angka:\n",
    "    print(baris)\n",
    "    for kolom in baris:\n",
    "        print(kolom)"
   ]
  },
  {
   "cell_type": "markdown",
   "id": "2c13828d",
   "metadata": {},
   "source": [
    "# Tuples"
   ]
  },
  {
   "cell_type": "code",
   "execution_count": 11,
   "id": "2fa844d7",
   "metadata": {},
   "outputs": [],
   "source": [
    "nilai=(0,3,4,5,7,8,3,5)"
   ]
  },
  {
   "cell_type": "code",
   "execution_count": 13,
   "id": "1d6690f8",
   "metadata": {},
   "outputs": [
    {
     "name": "stdout",
     "output_type": "stream",
     "text": [
      "7\n"
     ]
    }
   ],
   "source": [
    "print(nilai[4])"
   ]
  },
  {
   "cell_type": "code",
   "execution_count": 15,
   "id": "2da30cb2",
   "metadata": {},
   "outputs": [
    {
     "name": "stdout",
     "output_type": "stream",
     "text": [
      "(0, 3, 4, 5, 7, 8, 3)\n"
     ]
    }
   ],
   "source": [
    "print(nilai[0:7])"
   ]
  },
  {
   "cell_type": "code",
   "execution_count": 17,
   "id": "41bf7a0e",
   "metadata": {},
   "outputs": [
    {
     "name": "stdout",
     "output_type": "stream",
     "text": [
      "0\n",
      "3\n",
      "4\n",
      "5\n"
     ]
    }
   ],
   "source": [
    "for isi in nilai [0:4]:\n",
    "    print(isi)"
   ]
  },
  {
   "cell_type": "code",
   "execution_count": 18,
   "id": "106d9692",
   "metadata": {},
   "outputs": [
    {
     "data": {
      "text/plain": [
       "5"
      ]
     },
     "execution_count": 18,
     "metadata": {},
     "output_type": "execute_result"
    }
   ],
   "source": [
    "nilai[3]"
   ]
  },
  {
   "cell_type": "code",
   "execution_count": 25,
   "id": "6c9a5466",
   "metadata": {},
   "outputs": [
    {
     "data": {
      "text/plain": [
       "2"
      ]
     },
     "execution_count": 25,
     "metadata": {},
     "output_type": "execute_result"
    }
   ],
   "source": [
    "nilai.count(3)"
   ]
  },
  {
   "cell_type": "code",
   "execution_count": 26,
   "id": "cc4610f1",
   "metadata": {},
   "outputs": [
    {
     "data": {
      "text/plain": [
       "3"
      ]
     },
     "execution_count": 26,
     "metadata": {},
     "output_type": "execute_result"
    }
   ],
   "source": [
    "nilai.index(5)"
   ]
  },
  {
   "cell_type": "markdown",
   "id": "de85629a",
   "metadata": {},
   "source": [
    "# Dictionaries"
   ]
  },
  {
   "cell_type": "code",
   "execution_count": 13,
   "id": "971347e3",
   "metadata": {},
   "outputs": [],
   "source": [
    "data_dhea={\n",
    "    \"nama\":\"Dhea\",\n",
    "    \"umur\":18,\n",
    "    \"apakah_cantik\": True\n",
    "}"
   ]
  },
  {
   "cell_type": "code",
   "execution_count": 10,
   "id": "f9c6e679",
   "metadata": {},
   "outputs": [
    {
     "name": "stdout",
     "output_type": "stream",
     "text": [
      "Dhea\n"
     ]
    }
   ],
   "source": [
    "print(data_dhea['nama'])"
   ]
  },
  {
   "cell_type": "code",
   "execution_count": 12,
   "id": "c7a1aead",
   "metadata": {},
   "outputs": [
    {
     "name": "stdout",
     "output_type": "stream",
     "text": [
      "None\n"
     ]
    }
   ],
   "source": [
    "print(data_dhea.get('tanggal_lahir'))"
   ]
  },
  {
   "cell_type": "code",
   "execution_count": 14,
   "id": "4bfad550",
   "metadata": {},
   "outputs": [],
   "source": [
    "data_dhea['HP']='087860407260'"
   ]
  },
  {
   "cell_type": "code",
   "execution_count": 15,
   "id": "d6a26dc8",
   "metadata": {},
   "outputs": [
    {
     "name": "stdout",
     "output_type": "stream",
     "text": [
      "087860407260\n"
     ]
    }
   ],
   "source": [
    "print(data_dhea[\"HP\"])"
   ]
  },
  {
   "cell_type": "code",
   "execution_count": 18,
   "id": "cfb3429f",
   "metadata": {},
   "outputs": [],
   "source": [
    "angka={\n",
    "    \"0\":\"nol\",\n",
    "    \"1\":\"satu\",\n",
    "    \"2\":\"dua\",\n",
    "    \"3\":\"tiga\",\n",
    "    \"4\":\"empat\",\n",
    "    \"5\":\"lima\",\n",
    "    \"6\":\"enam\",\n",
    "    \"7\":\"tujuh\",\n",
    "    \"8\":\"delapan\",\n",
    "    \"9\":\"sembilan\"\n",
    "}"
   ]
  },
  {
   "cell_type": "code",
   "execution_count": 19,
   "id": "1338cece",
   "metadata": {},
   "outputs": [
    {
     "name": "stdout",
     "output_type": "stream",
     "text": [
      "Masukkan nomor HP anda 087860407269\n",
      "nol delapan tujuh delapan enam nol empat nol tujuh dua enam sembilan \n"
     ]
    }
   ],
   "source": [
    "nomor_HP=input(\"Masukkan nomor HP anda \")\n",
    "nomor_angka=\"\"\n",
    "for isi in nomor_HP:\n",
    "    nomor_angka+=angka.get(isi)+ \" \"\n",
    "print(nomor_angka)"
   ]
  },
  {
   "cell_type": "markdown",
   "id": "7fcaf132",
   "metadata": {},
   "source": [
    "# Fungsi dalam Phyton"
   ]
  },
  {
   "cell_type": "code",
   "execution_count": 20,
   "id": "a6e71549",
   "metadata": {},
   "outputs": [],
   "source": [
    "def nama_lengkap(nama_depan,nama_belakang):\n",
    "    print(f\"Nama lengkapmu adalah {nama_depan} {nama_belakang}\")"
   ]
  },
  {
   "cell_type": "code",
   "execution_count": 21,
   "id": "f7e391a0",
   "metadata": {},
   "outputs": [
    {
     "name": "stdout",
     "output_type": "stream",
     "text": [
      "Nama depan kamu: Dhea\n",
      "Nama belakang kamu: Dusak\n",
      "Nama lengkapnya adalah Dhea Dusak\n"
     ]
    }
   ],
   "source": [
    "nama_depan = input(\"Nama depan kamu: \")\n",
    "nama_belakang = input(\"Nama belakang kamu: \")\n",
    "nama_lengkap(nama_depan,nama_belakang)"
   ]
  },
  {
   "cell_type": "markdown",
   "id": "d74ab65e",
   "metadata": {},
   "source": [
    "# Tugas Fungsi pada Phyton"
   ]
  },
  {
   "cell_type": "code",
   "execution_count": 27,
   "id": "97d70d94",
   "metadata": {},
   "outputs": [],
   "source": [
    "def total_belanja(jumlah,harga):\n",
    "    total=jumlah*harga\n",
    "    print(total)"
   ]
  },
  {
   "cell_type": "code",
   "execution_count": 28,
   "id": "017603fb",
   "metadata": {},
   "outputs": [],
   "source": [
    "def total_belanja(jumlah,harga):\n",
    "    total=jumlah*harga\n",
    "    return(total)"
   ]
  },
  {
   "cell_type": "code",
   "execution_count": 29,
   "id": "c0ffbdd8",
   "metadata": {},
   "outputs": [
    {
     "data": {
      "text/plain": [
       "20000"
      ]
     },
     "execution_count": 29,
     "metadata": {},
     "output_type": "execute_result"
    }
   ],
   "source": [
    "total_belanja(4,5000)"
   ]
  },
  {
   "cell_type": "code",
   "execution_count": 30,
   "id": "21c54cac",
   "metadata": {},
   "outputs": [
    {
     "data": {
      "text/plain": [
       "72000"
      ]
     },
     "execution_count": 30,
     "metadata": {},
     "output_type": "execute_result"
    }
   ],
   "source": [
    "total_belanja(24,3000)"
   ]
  },
  {
   "cell_type": "code",
   "execution_count": 31,
   "id": "7dd399f8",
   "metadata": {},
   "outputs": [
    {
     "name": "stdout",
     "output_type": "stream",
     "text": [
      "20000\n"
     ]
    }
   ],
   "source": [
    "a=total_belanja(4,5000)\n",
    "print(a)"
   ]
  },
  {
   "cell_type": "code",
   "execution_count": 32,
   "id": "074cf384",
   "metadata": {},
   "outputs": [
    {
     "name": "stdout",
     "output_type": "stream",
     "text": [
      "72000\n"
     ]
    }
   ],
   "source": [
    "b=total_belanja(24,3000)\n",
    "print(b)"
   ]
  },
  {
   "cell_type": "code",
   "execution_count": 60,
   "id": "2fda83af",
   "metadata": {},
   "outputs": [],
   "source": [
    "import numpy as np"
   ]
  },
  {
   "cell_type": "code",
   "execution_count": 77,
   "id": "6dff6854",
   "metadata": {},
   "outputs": [],
   "source": [
    "def segitiga(alas,tinggi):\n",
    "    luas=(1/2)*alas*tinggi\n",
    "    return luas\n",
    "def lingkaran(jari_jari):\n",
    "    luas= np.pi*(jari_jari**2)\n",
    "    return luas\n",
    "def persegi(sisi):\n",
    "    sisi**2\n",
    "    return luas\n",
    "def persegi_panjang(panjang,lebar):\n",
    "    luas=panjang*lebar\n",
    "    return luas"
   ]
  },
  {
   "cell_type": "code",
   "execution_count": 79,
   "id": "8b7ecec8",
   "metadata": {},
   "outputs": [
    {
     "name": "stdout",
     "output_type": "stream",
     "text": [
      "Pilihlah bidang datar yang kamu mau!(Tersedia: Segitiga, Lingkaran, Persegi, Persegi Panjang): lingkaran\n",
      "Berapakah panjang jari-jarinya? 9\n",
      "Luas lingkarannya adalah 254.46900494077323 satuan\n"
     ]
    }
   ],
   "source": [
    "jenis_bidang = input(\"Pilihlah bidang datar yang kamu mau!(Tersedia: Segitiga, Lingkaran, Persegi, Persegi Panjang): \")\n",
    "\n",
    "if jenis_bidang.lower() == \"segitiga\":\n",
    "    alas= float(input(\"Berapakah panjang alasnya? \"))\n",
    "    tinggi= float(input(\"Berapakah tingginya? \"))\n",
    "    luas=(1/2)*alas*tinggi\n",
    "    print(f\"Luas {jenis_bidang}nya adalah {luas} satuan\")\n",
    "\n",
    "elif jenis_bidang.lower() == \"lingkaran\":\n",
    "    jari_jari= float(input(\"Berapakah panjang jari-jarinya? \"))\n",
    "    luas= np.pi*(jari_jari**2)\n",
    "    print(f\"Luas {jenis_bidang}nya adalah {luas} satuan\")\n",
    "\n",
    "elif jenis_bidang.lower() == \"persegi\":\n",
    "    sisi= float(input(\"Berapakah panjang sisinya? \"))\n",
    "    sisi**2\n",
    "    print(f\"Luas {jenis_bidang}nya adalah {luas} satuan\")\n",
    "    \n",
    "elif jenis_bidang.lower() == \"persegi panjang\":\n",
    "    panjang= float(input(\"Berapakah panjangnya? \"))\n",
    "    lebar= float(input(\"Berapakah lebarnya? \"))\n",
    "    luas=panjang*lebar\n",
    "    print(f\"Luas {jenis_bidang}nya adalah {luas} satuan\")\n",
    "    \n",
    "else:\n",
    "    print(f\"Mohon maaf {jenis_bidang} tidak tersedia, silakan masukkan jenis bidang datar yang lainnya.\")\n",
    "    print(\"Pilihan yang tersedia adalah Segitiga, Lingkaran, Persegi, dan Persegi Panjang.\")\n",
    "    print(\"Hayolo.. mau yang mana?\")"
   ]
  }
 ],
 "metadata": {
  "kernelspec": {
   "display_name": "Python 3 (ipykernel)",
   "language": "python",
   "name": "python3"
  },
  "language_info": {
   "codemirror_mode": {
    "name": "ipython",
    "version": 3
   },
   "file_extension": ".py",
   "mimetype": "text/x-python",
   "name": "python",
   "nbconvert_exporter": "python",
   "pygments_lexer": "ipython3",
   "version": "3.9.7"
  }
 },
 "nbformat": 4,
 "nbformat_minor": 5
}
